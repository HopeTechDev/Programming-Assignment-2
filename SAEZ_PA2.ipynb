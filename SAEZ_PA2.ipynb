{
 "cells": [
  {
   "cell_type": "markdown",
   "id": "c950bcbf-6342-480a-b6f2-9ae6922a15b9",
   "metadata": {},
   "source": [
    "#### SAEZ, Eljenzal Hoper U. "
   ]
  },
  {
   "cell_type": "markdown",
   "id": "924826e6-10cc-4c94-ba7f-c054fd6610c2",
   "metadata": {},
   "source": [
    "## *Normalization Problem*"
   ]
  },
  {
   "cell_type": "markdown",
   "id": "ea6da5d0-ae4b-41fd-ad5b-7966d4825e5e",
   "metadata": {},
   "source": [
    "Generate a random 5x5 array, normalize it, and save the result as X_normalized.npy."
   ]
  },
  {
   "cell_type": "code",
   "execution_count": 5,
   "id": "ac04112b-bf33-4096-8a8c-1e7824db2f03",
   "metadata": {},
   "outputs": [
    {
     "name": "stdout",
     "output_type": "stream",
     "text": [
      "Original Array:\n",
      " [[0.0273946  0.82568946 0.14118158 0.74282425 0.91215933]\n",
      " [0.09323498 0.24676741 0.57522548 0.33489202 0.68612467]\n",
      " [0.25871198 0.90800563 0.82335865 0.60178136 0.55191473]\n",
      " [0.39703248 0.79994896 0.17297976 0.51994781 0.84180587]\n",
      " [0.59933276 0.69099047 0.3802607  0.82692102 0.8097321 ]]\n",
      "\n",
      "Normalized Array:\n",
      " [[-1.92362181  1.01067456 -1.50537447  0.70608647  1.32851229]\n",
      " [-1.68161201 -1.11727212  0.09004284 -0.79335202  0.49767556]\n",
      " [-1.07336739  1.31324448  1.00210718  0.18765444  0.00435941]\n",
      " [-0.56494202  0.91606005 -1.38849373 -0.11314154  1.06991373]\n",
      " [ 0.17865411  0.51556081 -0.62659015  1.01520139  0.95201998]]\n"
     ]
    }
   ],
   "source": [
    "import numpy as np\n",
    "\n",
    "# creating a random 5x5 ndarray\n",
    "X = np.random.rand(5, 5)\n",
    "\n",
    "# calculate the mean and standard deviation\n",
    "mean = X.mean()\n",
    "std_dev = X.std()\n",
    "\n",
    "# normalize the array using the given formula\n",
    "X_normalized = (X - mean) / std_dev\n",
    "\n",
    "# save the normalized array to a file\n",
    "np.save('X_normalized.npy', X_normalized)\n",
    "\n",
    "# print the results\n",
    "print(\"Original Array:\\n\", X)\n",
    "print(\"\\nNormalized Array:\\n\", X_normalized)  # added \\n for spacing"
   ]
  },
  {
   "cell_type": "markdown",
   "id": "5c69b841-606c-43e8-a8f2-a73ebbf15af0",
   "metadata": {},
   "source": [
    "## *Division by 3 Problem*"
   ]
  },
  {
   "cell_type": "markdown",
   "id": "ac27ad90-9639-453a-aa73-c438ecec42e4",
   "metadata": {},
   "source": [
    "Create a 10x10 array of squared numbers from 1 to 100, extract those divisible by 3, and save them as div_by_3.npy."
   ]
  },
  {
   "cell_type": "code",
   "execution_count": 12,
   "id": "54812194-bc70-4370-9dd5-89d646c44508",
   "metadata": {},
   "outputs": [
    {
     "name": "stdout",
     "output_type": "stream",
     "text": [
      "Original Array:\n",
      " [[    1     4     9    16    25    36    49    64    81   100]\n",
      " [  121   144   169   196   225   256   289   324   361   400]\n",
      " [  441   484   529   576   625   676   729   784   841   900]\n",
      " [  961  1024  1089  1156  1225  1296  1369  1444  1521  1600]\n",
      " [ 1681  1764  1849  1936  2025  2116  2209  2304  2401  2500]\n",
      " [ 2601  2704  2809  2916  3025  3136  3249  3364  3481  3600]\n",
      " [ 3721  3844  3969  4096  4225  4356  4489  4624  4761  4900]\n",
      " [ 5041  5184  5329  5476  5625  5776  5929  6084  6241  6400]\n",
      " [ 6561  6724  6889  7056  7225  7396  7569  7744  7921  8100]\n",
      " [ 8281  8464  8649  8836  9025  9216  9409  9604  9801 10000]]\n",
      "\n",
      "Elements Divisible by 3:\n",
      " [   9   36   81  144  225  324  441  576  729  900 1089 1296 1521 1764\n",
      " 2025 2304 2601 2916 3249 3600 3969 4356 4761 5184 5625 6084 6561 7056\n",
      " 7569 8100 8649 9216 9801]\n"
     ]
    }
   ],
   "source": [
    "import numpy as np  # import numpy\n",
    "\n",
    "# make a 10x10 array with squares of numbers 1 to 100\n",
    "X = np.arange(1, 101).reshape(10, 10) ** 2\n",
    "\n",
    "# get the elements divisible by 3\n",
    "divisible = X[X % 3 == 0]\n",
    "\n",
    "# save the result\n",
    "np.save(\"div_by_3.npy\", divisible)\n",
    "\n",
    "# print results\n",
    "print(\"Original Array:\\n\", X)\n",
    "print(\"\\nElements Divisible by 3:\\n\", divisible)"
   ]
  }
 ],
 "metadata": {
  "kernelspec": {
   "display_name": "Python 3 (ipykernel)",
   "language": "python",
   "name": "python3"
  },
  "language_info": {
   "codemirror_mode": {
    "name": "ipython",
    "version": 3
   },
   "file_extension": ".py",
   "mimetype": "text/x-python",
   "name": "python",
   "nbconvert_exporter": "python",
   "pygments_lexer": "ipython3",
   "version": "3.12.4"
  }
 },
 "nbformat": 4,
 "nbformat_minor": 5
}
